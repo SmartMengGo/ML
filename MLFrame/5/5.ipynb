{
 "metadata": {
  "language_info": {
   "codemirror_mode": {
    "name": "ipython",
    "version": 3
   },
   "file_extension": ".py",
   "mimetype": "text/x-python",
   "name": "python",
   "nbconvert_exporter": "python",
   "pygments_lexer": "ipython3",
   "version": "3.6.2-candidate"
  },
  "orig_nbformat": 2,
  "kernelspec": {
   "name": "python36264bit164bb086f69c44b0adcbde7b8e50c157",
   "display_name": "Python 3.6.2 64-bit"
  }
 },
 "nbformat": 4,
 "nbformat_minor": 2,
 "cells": [
  {
   "cell_type": "code",
   "execution_count": 1,
   "metadata": {},
   "outputs": [],
   "source": [
    "import numpy as np\n",
    "import os\n",
    "\n",
    "# to make this notebook's output stable across runs\n",
    "np.random.seed(42)\n",
    "\n",
    "# To plot pretty figures\n",
    "%matplotlib inline\n",
    "import matplotlib as mpl\n",
    "import matplotlib.pyplot as plt\n",
    "mpl.rc('axes', labelsize=14)\n",
    "mpl.rc('xtick', labelsize=12)\n",
    "mpl.rc('ytick', labelsize=12)"
   ]
  },
  {
   "cell_type": "code",
   "execution_count": 2,
   "metadata": {},
   "outputs": [
    {
     "output_type": "execute_result",
     "data": {
      "text/plain": "Pipeline(steps=[('scaler', StandardScaler()),\n                ('linear_svc', LinearSVC(C=1, loss='hinge', random_state=42))])"
     },
     "metadata": {},
     "execution_count": 2
    }
   ],
   "source": [
    "\n",
    "import numpy as np\n",
    "from sklearn import datasets\n",
    "from sklearn.pipeline import Pipeline\n",
    "from sklearn.preprocessing import StandardScaler\n",
    "from sklearn.svm import LinearSVC\n",
    "\n",
    "iris = datasets.load_iris()\n",
    "X = iris[\"data\"][:, (2, 3)]  # petal length, petal width\n",
    "y = (iris[\"target\"] == 2).astype(np.float64)  # Iris-Virginica\n",
    "\n",
    "svm_clf = Pipeline([\n",
    "        (\"scaler\", StandardScaler()),\n",
    "        (\"linear_svc\", LinearSVC(C=1, loss=\"hinge\", random_state=42)),\n",
    "    ])\n",
    "\n",
    "svm_clf.fit(X, y)"
   ]
  },
  {
   "cell_type": "code",
   "execution_count": 3,
   "metadata": {},
   "outputs": [
    {
     "output_type": "execute_result",
     "data": {
      "text/plain": "array([0., 0., 0., 0., 0., 0., 0., 0., 0., 0., 0., 0., 0., 0., 0., 0., 0.,\n       0., 0., 0., 0., 0., 0., 0., 0., 0., 0., 0., 0., 0., 0., 0., 0., 0.,\n       0., 0., 0., 0., 0., 0., 0., 0., 0., 0., 0., 0., 0., 0., 0., 0., 0.,\n       0., 0., 0., 0., 0., 0., 0., 0., 0., 0., 0., 0., 0., 0., 0., 0., 0.,\n       0., 0., 0., 0., 0., 0., 0., 0., 0., 0., 0., 0., 0., 0., 0., 0., 0.,\n       0., 0., 0., 0., 0., 0., 0., 0., 0., 0., 0., 0., 0., 0., 0., 1., 1.,\n       1., 1., 1., 1., 1., 1., 1., 1., 1., 1., 1., 1., 1., 1., 1., 1., 1.,\n       1., 1., 1., 1., 1., 1., 1., 1., 1., 1., 1., 1., 1., 1., 1., 1., 1.,\n       1., 1., 1., 1., 1., 1., 1., 1., 1., 1., 1., 1., 1., 1.])"
     },
     "metadata": {},
     "execution_count": 3
    }
   ],
   "source": [
    "y"
   ]
  },
  {
   "cell_type": "code",
   "execution_count": 4,
   "metadata": {},
   "outputs": [
    {
     "output_type": "display_data",
     "data": {
      "text/plain": "<Figure size 432x288 with 1 Axes>",
      "image/svg+xml": "<?xml version=\"1.0\" encoding=\"utf-8\" standalone=\"no\"?>\r\n<!DOCTYPE svg PUBLIC \"-//W3C//DTD SVG 1.1//EN\"\r\n  \"http://www.w3.org/Graphics/SVG/1.1/DTD/svg11.dtd\">\r\n<!-- Created with matplotlib (https://matplotlib.org/) -->\r\n<svg height=\"278.369062pt\" version=\"1.1\" viewBox=\"0 0 409.58125 278.369062\" width=\"409.58125pt\" xmlns=\"http://www.w3.org/2000/svg\" xmlns:xlink=\"http://www.w3.org/1999/xlink\">\r\n <metadata>\r\n  <rdf:RDF xmlns:cc=\"http://creativecommons.org/ns#\" xmlns:dc=\"http://purl.org/dc/elements/1.1/\" xmlns:rdf=\"http://www.w3.org/1999/02/22-rdf-syntax-ns#\">\r\n   <cc:Work>\r\n    <dc:type rdf:resource=\"http://purl.org/dc/dcmitype/StillImage\"/>\r\n    <dc:date>2020-08-12T12:01:48.945793</dc:date>\r\n    <dc:format>image/svg+xml</dc:format>\r\n    <dc:creator>\r\n     <cc:Agent>\r\n      <dc:title>Matplotlib v3.3.0, https://matplotlib.org/</dc:title>\r\n     </cc:Agent>\r\n    </dc:creator>\r\n   </cc:Work>\r\n  </rdf:RDF>\r\n </metadata>\r\n <defs>\r\n  <style type=\"text/css\">*{stroke-linecap:butt;stroke-linejoin:round;}</style>\r\n </defs>\r\n <g id=\"figure_1\">\r\n  <g id=\"patch_1\">\r\n   <path d=\"M 0 278.369062 \r\nL 409.58125 278.369062 \r\nL 409.58125 0 \r\nL 0 0 \r\nz\r\n\" style=\"fill:none;\"/>\r\n  </g>\r\n  <g id=\"axes_1\">\r\n   <g id=\"patch_2\">\r\n    <path d=\"M 58.039375 229.199062 \r\nL 392.839375 229.199062 \r\nL 392.839375 11.759062 \r\nL 58.039375 11.759062 \r\nz\r\n\" style=\"fill:#ffffff;\"/>\r\n   </g>\r\n   <g id=\"matplotlib.axis_1\">\r\n    <g id=\"xtick_1\">\r\n     <g id=\"line2d_1\">\r\n      <path clip-path=\"url(#p61c9827918)\" d=\"M 58.039375 229.199062 \r\nL 58.039375 11.759062 \r\n\" style=\"fill:none;stroke:#b0b0b0;stroke-linecap:square;stroke-width:0.8;\"/>\r\n     </g>\r\n     <g id=\"line2d_2\">\r\n      <defs>\r\n       <path d=\"M 0 0 \r\nL 0 3.5 \r\n\" id=\"m132ddcbfe3\" style=\"stroke:#000000;stroke-width:0.8;\"/>\r\n      </defs>\r\n      <g>\r\n       <use style=\"stroke:#000000;stroke-width:0.8;\" x=\"58.039375\" xlink:href=\"#m132ddcbfe3\" y=\"229.199062\"/>\r\n      </g>\r\n     </g>\r\n     <g id=\"text_1\">\r\n      <!-- −1.5 -->\r\n      <g transform=\"translate(43.469688 245.317187)scale(0.12 -0.12)\">\r\n       <defs>\r\n        <path d=\"M 10.59375 35.5 \r\nL 73.1875 35.5 \r\nL 73.1875 27.203125 \r\nL 10.59375 27.203125 \r\nz\r\n\" id=\"DejaVuSans-8722\"/>\r\n        <path d=\"M 12.40625 8.296875 \r\nL 28.515625 8.296875 \r\nL 28.515625 63.921875 \r\nL 10.984375 60.40625 \r\nL 10.984375 69.390625 \r\nL 28.421875 72.90625 \r\nL 38.28125 72.90625 \r\nL 38.28125 8.296875 \r\nL 54.390625 8.296875 \r\nL 54.390625 0 \r\nL 12.40625 0 \r\nz\r\n\" id=\"DejaVuSans-49\"/>\r\n        <path d=\"M 10.6875 12.40625 \r\nL 21 12.40625 \r\nL 21 0 \r\nL 10.6875 0 \r\nz\r\n\" id=\"DejaVuSans-46\"/>\r\n        <path d=\"M 10.796875 72.90625 \r\nL 49.515625 72.90625 \r\nL 49.515625 64.59375 \r\nL 19.828125 64.59375 \r\nL 19.828125 46.734375 \r\nQ 21.96875 47.46875 24.109375 47.828125 \r\nQ 26.265625 48.1875 28.421875 48.1875 \r\nQ 40.625 48.1875 47.75 41.5 \r\nQ 54.890625 34.8125 54.890625 23.390625 \r\nQ 54.890625 11.625 47.5625 5.09375 \r\nQ 40.234375 -1.421875 26.90625 -1.421875 \r\nQ 22.3125 -1.421875 17.546875 -0.640625 \r\nQ 12.796875 0.140625 7.71875 1.703125 \r\nL 7.71875 11.625 \r\nQ 12.109375 9.234375 16.796875 8.0625 \r\nQ 21.484375 6.890625 26.703125 6.890625 \r\nQ 35.15625 6.890625 40.078125 11.328125 \r\nQ 45.015625 15.765625 45.015625 23.390625 \r\nQ 45.015625 31 40.078125 35.4375 \r\nQ 35.15625 39.890625 26.703125 39.890625 \r\nQ 22.75 39.890625 18.8125 39.015625 \r\nQ 14.890625 38.140625 10.796875 36.28125 \r\nz\r\n\" id=\"DejaVuSans-53\"/>\r\n       </defs>\r\n       <use xlink:href=\"#DejaVuSans-8722\"/>\r\n       <use x=\"83.789062\" xlink:href=\"#DejaVuSans-49\"/>\r\n       <use x=\"147.412109\" xlink:href=\"#DejaVuSans-46\"/>\r\n       <use x=\"179.199219\" xlink:href=\"#DejaVuSans-53\"/>\r\n      </g>\r\n     </g>\r\n    </g>\r\n    <g id=\"xtick_2\">\r\n     <g id=\"line2d_3\">\r\n      <path clip-path=\"url(#p61c9827918)\" d=\"M 99.889375 229.199062 \r\nL 99.889375 11.759062 \r\n\" style=\"fill:none;stroke:#b0b0b0;stroke-linecap:square;stroke-width:0.8;\"/>\r\n     </g>\r\n     <g id=\"line2d_4\">\r\n      <g>\r\n       <use style=\"stroke:#000000;stroke-width:0.8;\" x=\"99.889375\" xlink:href=\"#m132ddcbfe3\" y=\"229.199062\"/>\r\n      </g>\r\n     </g>\r\n     <g id=\"text_2\">\r\n      <!-- −1.0 -->\r\n      <g transform=\"translate(85.319688 245.317187)scale(0.12 -0.12)\">\r\n       <defs>\r\n        <path d=\"M 31.78125 66.40625 \r\nQ 24.171875 66.40625 20.328125 58.90625 \r\nQ 16.5 51.421875 16.5 36.375 \r\nQ 16.5 21.390625 20.328125 13.890625 \r\nQ 24.171875 6.390625 31.78125 6.390625 \r\nQ 39.453125 6.390625 43.28125 13.890625 \r\nQ 47.125 21.390625 47.125 36.375 \r\nQ 47.125 51.421875 43.28125 58.90625 \r\nQ 39.453125 66.40625 31.78125 66.40625 \r\nz\r\nM 31.78125 74.21875 \r\nQ 44.046875 74.21875 50.515625 64.515625 \r\nQ 56.984375 54.828125 56.984375 36.375 \r\nQ 56.984375 17.96875 50.515625 8.265625 \r\nQ 44.046875 -1.421875 31.78125 -1.421875 \r\nQ 19.53125 -1.421875 13.0625 8.265625 \r\nQ 6.59375 17.96875 6.59375 36.375 \r\nQ 6.59375 54.828125 13.0625 64.515625 \r\nQ 19.53125 74.21875 31.78125 74.21875 \r\nz\r\n\" id=\"DejaVuSans-48\"/>\r\n       </defs>\r\n       <use xlink:href=\"#DejaVuSans-8722\"/>\r\n       <use x=\"83.789062\" xlink:href=\"#DejaVuSans-49\"/>\r\n       <use x=\"147.412109\" xlink:href=\"#DejaVuSans-46\"/>\r\n       <use x=\"179.199219\" xlink:href=\"#DejaVuSans-48\"/>\r\n      </g>\r\n     </g>\r\n    </g>\r\n    <g id=\"xtick_3\">\r\n     <g id=\"line2d_5\">\r\n      <path clip-path=\"url(#p61c9827918)\" d=\"M 141.739375 229.199062 \r\nL 141.739375 11.759062 \r\n\" style=\"fill:none;stroke:#b0b0b0;stroke-linecap:square;stroke-width:0.8;\"/>\r\n     </g>\r\n     <g id=\"line2d_6\">\r\n      <g>\r\n       <use style=\"stroke:#000000;stroke-width:0.8;\" x=\"141.739375\" xlink:href=\"#m132ddcbfe3\" y=\"229.199062\"/>\r\n      </g>\r\n     </g>\r\n     <g id=\"text_3\">\r\n      <!-- −0.5 -->\r\n      <g transform=\"translate(127.169688 245.317187)scale(0.12 -0.12)\">\r\n       <use xlink:href=\"#DejaVuSans-8722\"/>\r\n       <use x=\"83.789062\" xlink:href=\"#DejaVuSans-48\"/>\r\n       <use x=\"147.412109\" xlink:href=\"#DejaVuSans-46\"/>\r\n       <use x=\"179.199219\" xlink:href=\"#DejaVuSans-53\"/>\r\n      </g>\r\n     </g>\r\n    </g>\r\n    <g id=\"xtick_4\">\r\n     <g id=\"line2d_7\">\r\n      <path clip-path=\"url(#p61c9827918)\" d=\"M 183.589375 229.199062 \r\nL 183.589375 11.759062 \r\n\" style=\"fill:none;stroke:#b0b0b0;stroke-linecap:square;stroke-width:0.8;\"/>\r\n     </g>\r\n     <g id=\"line2d_8\">\r\n      <g>\r\n       <use style=\"stroke:#000000;stroke-width:0.8;\" x=\"183.589375\" xlink:href=\"#m132ddcbfe3\" y=\"229.199062\"/>\r\n      </g>\r\n     </g>\r\n     <g id=\"text_4\">\r\n      <!-- 0.0 -->\r\n      <g transform=\"translate(174.0475 245.317187)scale(0.12 -0.12)\">\r\n       <use xlink:href=\"#DejaVuSans-48\"/>\r\n       <use x=\"63.623047\" xlink:href=\"#DejaVuSans-46\"/>\r\n       <use x=\"95.410156\" xlink:href=\"#DejaVuSans-48\"/>\r\n      </g>\r\n     </g>\r\n    </g>\r\n    <g id=\"xtick_5\">\r\n     <g id=\"line2d_9\">\r\n      <path clip-path=\"url(#p61c9827918)\" d=\"M 225.439375 229.199062 \r\nL 225.439375 11.759062 \r\n\" style=\"fill:none;stroke:#b0b0b0;stroke-linecap:square;stroke-width:0.8;\"/>\r\n     </g>\r\n     <g id=\"line2d_10\">\r\n      <g>\r\n       <use style=\"stroke:#000000;stroke-width:0.8;\" x=\"225.439375\" xlink:href=\"#m132ddcbfe3\" y=\"229.199062\"/>\r\n      </g>\r\n     </g>\r\n     <g id=\"text_5\">\r\n      <!-- 0.5 -->\r\n      <g transform=\"translate(215.8975 245.317187)scale(0.12 -0.12)\">\r\n       <use xlink:href=\"#DejaVuSans-48\"/>\r\n       <use x=\"63.623047\" xlink:href=\"#DejaVuSans-46\"/>\r\n       <use x=\"95.410156\" xlink:href=\"#DejaVuSans-53\"/>\r\n      </g>\r\n     </g>\r\n    </g>\r\n    <g id=\"xtick_6\">\r\n     <g id=\"line2d_11\">\r\n      <path clip-path=\"url(#p61c9827918)\" d=\"M 267.289375 229.199062 \r\nL 267.289375 11.759062 \r\n\" style=\"fill:none;stroke:#b0b0b0;stroke-linecap:square;stroke-width:0.8;\"/>\r\n     </g>\r\n     <g id=\"line2d_12\">\r\n      <g>\r\n       <use style=\"stroke:#000000;stroke-width:0.8;\" x=\"267.289375\" xlink:href=\"#m132ddcbfe3\" y=\"229.199062\"/>\r\n      </g>\r\n     </g>\r\n     <g id=\"text_6\">\r\n      <!-- 1.0 -->\r\n      <g transform=\"translate(257.7475 245.317187)scale(0.12 -0.12)\">\r\n       <use xlink:href=\"#DejaVuSans-49\"/>\r\n       <use x=\"63.623047\" xlink:href=\"#DejaVuSans-46\"/>\r\n       <use x=\"95.410156\" xlink:href=\"#DejaVuSans-48\"/>\r\n      </g>\r\n     </g>\r\n    </g>\r\n    <g id=\"xtick_7\">\r\n     <g id=\"line2d_13\">\r\n      <path clip-path=\"url(#p61c9827918)\" d=\"M 309.139375 229.199062 \r\nL 309.139375 11.759062 \r\n\" style=\"fill:none;stroke:#b0b0b0;stroke-linecap:square;stroke-width:0.8;\"/>\r\n     </g>\r\n     <g id=\"line2d_14\">\r\n      <g>\r\n       <use style=\"stroke:#000000;stroke-width:0.8;\" x=\"309.139375\" xlink:href=\"#m132ddcbfe3\" y=\"229.199062\"/>\r\n      </g>\r\n     </g>\r\n     <g id=\"text_7\">\r\n      <!-- 1.5 -->\r\n      <g transform=\"translate(299.5975 245.317187)scale(0.12 -0.12)\">\r\n       <use xlink:href=\"#DejaVuSans-49\"/>\r\n       <use x=\"63.623047\" xlink:href=\"#DejaVuSans-46\"/>\r\n       <use x=\"95.410156\" xlink:href=\"#DejaVuSans-53\"/>\r\n      </g>\r\n     </g>\r\n    </g>\r\n    <g id=\"xtick_8\">\r\n     <g id=\"line2d_15\">\r\n      <path clip-path=\"url(#p61c9827918)\" d=\"M 350.989375 229.199062 \r\nL 350.989375 11.759062 \r\n\" style=\"fill:none;stroke:#b0b0b0;stroke-linecap:square;stroke-width:0.8;\"/>\r\n     </g>\r\n     <g id=\"line2d_16\">\r\n      <g>\r\n       <use style=\"stroke:#000000;stroke-width:0.8;\" x=\"350.989375\" xlink:href=\"#m132ddcbfe3\" y=\"229.199062\"/>\r\n      </g>\r\n     </g>\r\n     <g id=\"text_8\">\r\n      <!-- 2.0 -->\r\n      <g transform=\"translate(341.4475 245.317187)scale(0.12 -0.12)\">\r\n       <defs>\r\n        <path d=\"M 19.1875 8.296875 \r\nL 53.609375 8.296875 \r\nL 53.609375 0 \r\nL 7.328125 0 \r\nL 7.328125 8.296875 \r\nQ 12.9375 14.109375 22.625 23.890625 \r\nQ 32.328125 33.6875 34.8125 36.53125 \r\nQ 39.546875 41.84375 41.421875 45.53125 \r\nQ 43.3125 49.21875 43.3125 52.78125 \r\nQ 43.3125 58.59375 39.234375 62.25 \r\nQ 35.15625 65.921875 28.609375 65.921875 \r\nQ 23.96875 65.921875 18.8125 64.3125 \r\nQ 13.671875 62.703125 7.8125 59.421875 \r\nL 7.8125 69.390625 \r\nQ 13.765625 71.78125 18.9375 73 \r\nQ 24.125 74.21875 28.421875 74.21875 \r\nQ 39.75 74.21875 46.484375 68.546875 \r\nQ 53.21875 62.890625 53.21875 53.421875 \r\nQ 53.21875 48.921875 51.53125 44.890625 \r\nQ 49.859375 40.875 45.40625 35.40625 \r\nQ 44.1875 33.984375 37.640625 27.21875 \r\nQ 31.109375 20.453125 19.1875 8.296875 \r\nz\r\n\" id=\"DejaVuSans-50\"/>\r\n       </defs>\r\n       <use xlink:href=\"#DejaVuSans-50\"/>\r\n       <use x=\"63.623047\" xlink:href=\"#DejaVuSans-46\"/>\r\n       <use x=\"95.410156\" xlink:href=\"#DejaVuSans-48\"/>\r\n      </g>\r\n     </g>\r\n    </g>\r\n    <g id=\"xtick_9\">\r\n     <g id=\"line2d_17\">\r\n      <path clip-path=\"url(#p61c9827918)\" d=\"M 392.839375 229.199062 \r\nL 392.839375 11.759062 \r\n\" style=\"fill:none;stroke:#b0b0b0;stroke-linecap:square;stroke-width:0.8;\"/>\r\n     </g>\r\n     <g id=\"line2d_18\">\r\n      <g>\r\n       <use style=\"stroke:#000000;stroke-width:0.8;\" x=\"392.839375\" xlink:href=\"#m132ddcbfe3\" y=\"229.199062\"/>\r\n      </g>\r\n     </g>\r\n     <g id=\"text_9\">\r\n      <!-- 2.5 -->\r\n      <g transform=\"translate(383.2975 245.317187)scale(0.12 -0.12)\">\r\n       <use xlink:href=\"#DejaVuSans-50\"/>\r\n       <use x=\"63.623047\" xlink:href=\"#DejaVuSans-46\"/>\r\n       <use x=\"95.410156\" xlink:href=\"#DejaVuSans-53\"/>\r\n      </g>\r\n     </g>\r\n    </g>\r\n    <g id=\"text_10\">\r\n     <!-- $x_1$ -->\r\n     <g transform=\"translate(214.739375 267.009687)scale(0.2 -0.2)\">\r\n      <defs>\r\n       <path d=\"M 60.015625 54.6875 \r\nL 34.90625 27.875 \r\nL 50.296875 0 \r\nL 39.984375 0 \r\nL 28.421875 21.6875 \r\nL 8.296875 0 \r\nL -2.59375 0 \r\nL 24.3125 28.8125 \r\nL 10.015625 54.6875 \r\nL 20.3125 54.6875 \r\nL 30.8125 34.90625 \r\nL 49.125 54.6875 \r\nz\r\n\" id=\"DejaVuSans-Oblique-120\"/>\r\n      </defs>\r\n      <use transform=\"translate(0 0.3125)\" xlink:href=\"#DejaVuSans-Oblique-120\"/>\r\n      <use transform=\"translate(59.179688 -16.09375)scale(0.7)\" xlink:href=\"#DejaVuSans-49\"/>\r\n     </g>\r\n    </g>\r\n   </g>\r\n   <g id=\"matplotlib.axis_2\">\r\n    <g id=\"ytick_1\">\r\n     <g id=\"line2d_19\">\r\n      <path clip-path=\"url(#p61c9827918)\" d=\"M 58.039375 229.199062 \r\nL 392.839375 229.199062 \r\n\" style=\"fill:none;stroke:#b0b0b0;stroke-linecap:square;stroke-width:0.8;\"/>\r\n     </g>\r\n     <g id=\"line2d_20\">\r\n      <defs>\r\n       <path d=\"M 0 0 \r\nL -3.5 0 \r\n\" id=\"m0f80d312e8\" style=\"stroke:#000000;stroke-width:0.8;\"/>\r\n      </defs>\r\n      <g>\r\n       <use style=\"stroke:#000000;stroke-width:0.8;\" x=\"58.039375\" xlink:href=\"#m0f80d312e8\" y=\"229.199062\"/>\r\n      </g>\r\n     </g>\r\n     <g id=\"text_11\">\r\n      <!-- −1.0 -->\r\n      <g transform=\"translate(21.9 233.758125)scale(0.12 -0.12)\">\r\n       <use xlink:href=\"#DejaVuSans-8722\"/>\r\n       <use x=\"83.789062\" xlink:href=\"#DejaVuSans-49\"/>\r\n       <use x=\"147.412109\" xlink:href=\"#DejaVuSans-46\"/>\r\n       <use x=\"179.199219\" xlink:href=\"#DejaVuSans-48\"/>\r\n      </g>\r\n     </g>\r\n    </g>\r\n    <g id=\"ytick_2\">\r\n     <g id=\"line2d_21\">\r\n      <path clip-path=\"url(#p61c9827918)\" d=\"M 58.039375 185.711062 \r\nL 392.839375 185.711062 \r\n\" style=\"fill:none;stroke:#b0b0b0;stroke-linecap:square;stroke-width:0.8;\"/>\r\n     </g>\r\n     <g id=\"line2d_22\">\r\n      <g>\r\n       <use style=\"stroke:#000000;stroke-width:0.8;\" x=\"58.039375\" xlink:href=\"#m0f80d312e8\" y=\"185.711062\"/>\r\n      </g>\r\n     </g>\r\n     <g id=\"text_12\">\r\n      <!-- −0.5 -->\r\n      <g transform=\"translate(21.9 190.270125)scale(0.12 -0.12)\">\r\n       <use xlink:href=\"#DejaVuSans-8722\"/>\r\n       <use x=\"83.789062\" xlink:href=\"#DejaVuSans-48\"/>\r\n       <use x=\"147.412109\" xlink:href=\"#DejaVuSans-46\"/>\r\n       <use x=\"179.199219\" xlink:href=\"#DejaVuSans-53\"/>\r\n      </g>\r\n     </g>\r\n    </g>\r\n    <g id=\"ytick_3\">\r\n     <g id=\"line2d_23\">\r\n      <path clip-path=\"url(#p61c9827918)\" d=\"M 58.039375 142.223062 \r\nL 392.839375 142.223062 \r\n\" style=\"fill:none;stroke:#b0b0b0;stroke-linecap:square;stroke-width:0.8;\"/>\r\n     </g>\r\n     <g id=\"line2d_24\">\r\n      <g>\r\n       <use style=\"stroke:#000000;stroke-width:0.8;\" x=\"58.039375\" xlink:href=\"#m0f80d312e8\" y=\"142.223062\"/>\r\n      </g>\r\n     </g>\r\n     <g id=\"text_13\">\r\n      <!-- 0.0 -->\r\n      <g transform=\"translate(31.955625 146.782125)scale(0.12 -0.12)\">\r\n       <use xlink:href=\"#DejaVuSans-48\"/>\r\n       <use x=\"63.623047\" xlink:href=\"#DejaVuSans-46\"/>\r\n       <use x=\"95.410156\" xlink:href=\"#DejaVuSans-48\"/>\r\n      </g>\r\n     </g>\r\n    </g>\r\n    <g id=\"ytick_4\">\r\n     <g id=\"line2d_25\">\r\n      <path clip-path=\"url(#p61c9827918)\" d=\"M 58.039375 98.735062 \r\nL 392.839375 98.735062 \r\n\" style=\"fill:none;stroke:#b0b0b0;stroke-linecap:square;stroke-width:0.8;\"/>\r\n     </g>\r\n     <g id=\"line2d_26\">\r\n      <g>\r\n       <use style=\"stroke:#000000;stroke-width:0.8;\" x=\"58.039375\" xlink:href=\"#m0f80d312e8\" y=\"98.735062\"/>\r\n      </g>\r\n     </g>\r\n     <g id=\"text_14\">\r\n      <!-- 0.5 -->\r\n      <g transform=\"translate(31.955625 103.294125)scale(0.12 -0.12)\">\r\n       <use xlink:href=\"#DejaVuSans-48\"/>\r\n       <use x=\"63.623047\" xlink:href=\"#DejaVuSans-46\"/>\r\n       <use x=\"95.410156\" xlink:href=\"#DejaVuSans-53\"/>\r\n      </g>\r\n     </g>\r\n    </g>\r\n    <g id=\"ytick_5\">\r\n     <g id=\"line2d_27\">\r\n      <path clip-path=\"url(#p61c9827918)\" d=\"M 58.039375 55.247062 \r\nL 392.839375 55.247062 \r\n\" style=\"fill:none;stroke:#b0b0b0;stroke-linecap:square;stroke-width:0.8;\"/>\r\n     </g>\r\n     <g id=\"line2d_28\">\r\n      <g>\r\n       <use style=\"stroke:#000000;stroke-width:0.8;\" x=\"58.039375\" xlink:href=\"#m0f80d312e8\" y=\"55.247062\"/>\r\n      </g>\r\n     </g>\r\n     <g id=\"text_15\">\r\n      <!-- 1.0 -->\r\n      <g transform=\"translate(31.955625 59.806125)scale(0.12 -0.12)\">\r\n       <use xlink:href=\"#DejaVuSans-49\"/>\r\n       <use x=\"63.623047\" xlink:href=\"#DejaVuSans-46\"/>\r\n       <use x=\"95.410156\" xlink:href=\"#DejaVuSans-48\"/>\r\n      </g>\r\n     </g>\r\n    </g>\r\n    <g id=\"ytick_6\">\r\n     <g id=\"line2d_29\">\r\n      <path clip-path=\"url(#p61c9827918)\" d=\"M 58.039375 11.759062 \r\nL 392.839375 11.759062 \r\n\" style=\"fill:none;stroke:#b0b0b0;stroke-linecap:square;stroke-width:0.8;\"/>\r\n     </g>\r\n     <g id=\"line2d_30\">\r\n      <g>\r\n       <use style=\"stroke:#000000;stroke-width:0.8;\" x=\"58.039375\" xlink:href=\"#m0f80d312e8\" y=\"11.759062\"/>\r\n      </g>\r\n     </g>\r\n     <g id=\"text_16\">\r\n      <!-- 1.5 -->\r\n      <g transform=\"translate(31.955625 16.318125)scale(0.12 -0.12)\">\r\n       <use xlink:href=\"#DejaVuSans-49\"/>\r\n       <use x=\"63.623047\" xlink:href=\"#DejaVuSans-46\"/>\r\n       <use x=\"95.410156\" xlink:href=\"#DejaVuSans-53\"/>\r\n      </g>\r\n     </g>\r\n    </g>\r\n    <g id=\"text_17\">\r\n     <!-- $x_2$ -->\r\n     <g transform=\"translate(7.2 116.319687)scale(0.2 -0.2)\">\r\n      <use transform=\"translate(0 0.3125)\" xlink:href=\"#DejaVuSans-Oblique-120\"/>\r\n      <use transform=\"translate(59.179688 -16.09375)scale(0.7)\" xlink:href=\"#DejaVuSans-50\"/>\r\n     </g>\r\n    </g>\r\n   </g>\r\n   <g id=\"line2d_31\">\r\n    <defs>\r\n     <path d=\"M -3 3 \r\nL 3 3 \r\nL 3 -3 \r\nL -3 -3 \r\nz\r\n\" id=\"m12763e936d\" style=\"stroke:#0000ff;stroke-linejoin:miter;\"/>\r\n    </defs>\r\n    <g clip-path=\"url(#p61c9827918)\">\r\n     <use style=\"fill:#0000ff;stroke:#0000ff;stroke-linejoin:miter;\" x=\"91.373307\" xlink:href=\"#m12763e936d\" y=\"121.622239\"/>\r\n     <use style=\"fill:#0000ff;stroke:#0000ff;stroke-linejoin:miter;\" x=\"122.595967\" xlink:href=\"#m12763e936d\" y=\"129.479037\"/>\r\n     <use style=\"fill:#0000ff;stroke:#0000ff;stroke-linejoin:miter;\" x=\"128.438373\" xlink:href=\"#m12763e936d\" y=\"67.676977\"/>\r\n     <use style=\"fill:#0000ff;stroke:#0000ff;stroke-linejoin:miter;\" x=\"202.696633\" xlink:href=\"#m12763e936d\" y=\"78.335827\"/>\r\n     <use style=\"fill:#0000ff;stroke:#0000ff;stroke-linejoin:miter;\" x=\"256.540858\" xlink:href=\"#m12763e936d\" y=\"80.598054\"/>\r\n     <use style=\"fill:#0000ff;stroke:#0000ff;stroke-linejoin:miter;\" x=\"257.500218\" xlink:href=\"#m12763e936d\" y=\"153.232872\"/>\r\n     <use style=\"fill:#0000ff;stroke:#0000ff;stroke-linejoin:miter;\" x=\"215.579788\" xlink:href=\"#m12763e936d\" y=\"75.288162\"/>\r\n     <use style=\"fill:#0000ff;stroke:#0000ff;stroke-linejoin:miter;\" x=\"156.57171\" xlink:href=\"#m12763e936d\" y=\"62.078572\"/>\r\n     <use style=\"fill:#0000ff;stroke:#0000ff;stroke-linejoin:miter;\" x=\"130.381307\" xlink:href=\"#m12763e936d\" y=\"62.315235\"/>\r\n     <use style=\"fill:#0000ff;stroke:#0000ff;stroke-linejoin:miter;\" x=\"284.927722\" xlink:href=\"#m12763e936d\" y=\"109.41445\"/>\r\n     <use style=\"fill:#0000ff;stroke:#0000ff;stroke-linejoin:miter;\" x=\"225.103379\" xlink:href=\"#m12763e936d\" y=\"84.701013\"/>\r\n     <use style=\"fill:#0000ff;stroke:#0000ff;stroke-linejoin:miter;\" x=\"161.794971\" xlink:href=\"#m12763e936d\" y=\"65.426842\"/>\r\n     <use style=\"fill:#0000ff;stroke:#0000ff;stroke-linejoin:miter;\" x=\"186.223008\" xlink:href=\"#m12763e936d\" y=\"72.757029\"/>\r\n     <use style=\"fill:#0000ff;stroke:#0000ff;stroke-linejoin:miter;\" x=\"97.251602\" xlink:href=\"#m12763e936d\" y=\"111.095461\"/>\r\n     <use style=\"fill:#0000ff;stroke:#0000ff;stroke-linejoin:miter;\" x=\"217.711922\" xlink:href=\"#m12763e936d\" y=\"58.951814\"/>\r\n     <use style=\"fill:#0000ff;stroke:#0000ff;stroke-linejoin:miter;\" x=\"105.07901\" xlink:href=\"#m12763e936d\" y=\"101.477696\"/>\r\n     <use style=\"fill:#0000ff;stroke:#0000ff;stroke-linejoin:miter;\" x=\"245.41667\" xlink:href=\"#m12763e936d\" y=\"96.685562\"/>\r\n     <use style=\"fill:#0000ff;stroke:#0000ff;stroke-linejoin:miter;\" x=\"260.966259\" xlink:href=\"#m12763e936d\" y=\"72.731289\"/>\r\n     <use style=\"fill:#0000ff;stroke:#0000ff;stroke-linejoin:miter;\" x=\"95.030178\" xlink:href=\"#m12763e936d\" y=\"132.19887\"/>\r\n     <use style=\"fill:#0000ff;stroke:#0000ff;stroke-linejoin:miter;\" x=\"169.208247\" xlink:href=\"#m12763e936d\" y=\"31.666687\"/>\r\n     <use style=\"fill:#0000ff;stroke:#0000ff;stroke-linejoin:miter;\" x=\"253.450559\" xlink:href=\"#m12763e936d\" y=\"112.615812\"/>\r\n     <use style=\"fill:#0000ff;stroke:#0000ff;stroke-linejoin:miter;\" x=\"130.833248\" xlink:href=\"#m12763e936d\" y=\"71.392244\"/>\r\n     <use style=\"fill:#0000ff;stroke:#0000ff;stroke-linejoin:miter;\" x=\"233.412313\" xlink:href=\"#m12763e936d\" y=\"60.755595\"/>\r\n     <use style=\"fill:#0000ff;stroke:#0000ff;stroke-linejoin:miter;\" x=\"100.242164\" xlink:href=\"#m12763e936d\" y=\"157.840739\"/>\r\n     <use style=\"fill:#0000ff;stroke:#0000ff;stroke-linejoin:miter;\" x=\"145.617553\" xlink:href=\"#m12763e936d\" y=\"65.258376\"/>\r\n     <use style=\"fill:#0000ff;stroke:#0000ff;stroke-linejoin:miter;\" x=\"245.230744\" xlink:href=\"#m12763e936d\" y=\"113.38717\"/>\r\n     <use style=\"fill:#0000ff;stroke:#0000ff;stroke-linejoin:miter;\" x=\"161.187522\" xlink:href=\"#m12763e936d\" y=\"59.883604\"/>\r\n     <use style=\"fill:#0000ff;stroke:#0000ff;stroke-linejoin:miter;\" x=\"210.695262\" xlink:href=\"#m12763e936d\" y=\"52.549155\"/>\r\n     <use style=\"fill:#0000ff;stroke:#0000ff;stroke-linejoin:miter;\" x=\"195.58606\" xlink:href=\"#m12763e936d\" y=\"43.898107\"/>\r\n     <use style=\"fill:#0000ff;stroke:#0000ff;stroke-linejoin:miter;\" x=\"226.95805\" xlink:href=\"#m12763e936d\" y=\"68.166122\"/>\r\n     <use style=\"fill:#0000ff;stroke:#0000ff;stroke-linejoin:miter;\" x=\"164.796393\" xlink:href=\"#m12763e936d\" y=\"53.739508\"/>\r\n     <use style=\"fill:#0000ff;stroke:#0000ff;stroke-linejoin:miter;\" x=\"278.306973\" xlink:href=\"#m12763e936d\" y=\"123.608306\"/>\r\n     <use style=\"fill:#0000ff;stroke:#0000ff;stroke-linejoin:miter;\" x=\"214.753287\" xlink:href=\"#m12763e936d\" y=\"76.155471\"/>\r\n     <use style=\"fill:#0000ff;stroke:#0000ff;stroke-linejoin:miter;\" x=\"130.103146\" xlink:href=\"#m12763e936d\" y=\"79.688668\"/>\r\n     <use style=\"fill:#0000ff;stroke:#0000ff;stroke-linejoin:miter;\" x=\"252.934432\" xlink:href=\"#m12763e936d\" y=\"85.644181\"/>\r\n     <use style=\"fill:#0000ff;stroke:#0000ff;stroke-linejoin:miter;\" x=\"268.289663\" xlink:href=\"#m12763e936d\" y=\"111.729978\"/>\r\n     <use style=\"fill:#0000ff;stroke:#0000ff;stroke-linejoin:miter;\" x=\"129.209315\" xlink:href=\"#m12763e936d\" y=\"78.041667\"/>\r\n     <use style=\"fill:#0000ff;stroke:#0000ff;stroke-linejoin:miter;\" x=\"89.451794\" xlink:href=\"#m12763e936d\" y=\"100.185379\"/>\r\n     <use style=\"fill:#0000ff;stroke:#0000ff;stroke-linejoin:miter;\" x=\"77.12167\" xlink:href=\"#m12763e936d\" y=\"136.651815\"/>\r\n     <use style=\"fill:#0000ff;stroke:#0000ff;stroke-linejoin:miter;\" x=\"118.280579\" xlink:href=\"#m12763e936d\" y=\"104.094317\"/>\r\n     <use style=\"fill:#0000ff;stroke:#0000ff;stroke-linejoin:miter;\" x=\"104.284832\" xlink:href=\"#m12763e936d\" y=\"135.989954\"/>\r\n     <use style=\"fill:#0000ff;stroke:#0000ff;stroke-linejoin:miter;\" x=\"158.639341\" xlink:href=\"#m12763e936d\" y=\"69.486108\"/>\r\n     <use style=\"fill:#0000ff;stroke:#0000ff;stroke-linejoin:miter;\" x=\"115.09006\" xlink:href=\"#m12763e936d\" y=\"103.787515\"/>\r\n     <use style=\"fill:#0000ff;stroke:#0000ff;stroke-linejoin:miter;\" x=\"168.020506\" xlink:href=\"#m12763e936d\" y=\"77.575304\"/>\r\n     <use style=\"fill:#0000ff;stroke:#0000ff;stroke-linejoin:miter;\" x=\"252.261504\" xlink:href=\"#m12763e936d\" y=\"130.19258\"/>\r\n     <use style=\"fill:#0000ff;stroke:#0000ff;stroke-linejoin:miter;\" x=\"203.072527\" xlink:href=\"#m12763e936d\" y=\"62.769044\"/>\r\n     <use style=\"fill:#0000ff;stroke:#0000ff;stroke-linejoin:miter;\" x=\"290.32547\" xlink:href=\"#m12763e936d\" y=\"139.917637\"/>\r\n     <use style=\"fill:#0000ff;stroke:#0000ff;stroke-linejoin:miter;\" x=\"180.158608\" xlink:href=\"#m12763e936d\" y=\"61.585514\"/>\r\n     <use style=\"fill:#0000ff;stroke:#0000ff;stroke-linejoin:miter;\" x=\"228.292964\" xlink:href=\"#m12763e936d\" y=\"68.486341\"/>\r\n     <use style=\"fill:#0000ff;stroke:#0000ff;stroke-linejoin:miter;\" x=\"226.576521\" xlink:href=\"#m12763e936d\" y=\"81.766919\"/>\r\n    </g>\r\n   </g>\r\n   <g id=\"line2d_32\">\r\n    <defs>\r\n     <path d=\"M 0 -3 \r\nL -3 3 \r\nL 3 3 \r\nz\r\n\" id=\"m65bb831186\" style=\"stroke:#008000;stroke-linejoin:miter;\"/>\r\n    </defs>\r\n    <g clip-path=\"url(#p61c9827918)\">\r\n     <use style=\"fill:#008000;stroke:#008000;stroke-linejoin:miter;\" x=\"318.667644\" xlink:href=\"#m65bb831186\" y=\"184.9414\"/>\r\n     <use style=\"fill:#008000;stroke:#008000;stroke-linejoin:miter;\" x=\"191.109588\" xlink:href=\"#m65bb831186\" y=\"98.353189\"/>\r\n     <use style=\"fill:#008000;stroke:#008000;stroke-linejoin:miter;\" x=\"246.130891\" xlink:href=\"#m65bb831186\" y=\"174.326874\"/>\r\n     <use style=\"fill:#008000;stroke:#008000;stroke-linejoin:miter;\" x=\"300.299972\" xlink:href=\"#m65bb831186\" y=\"181.417602\"/>\r\n     <use style=\"fill:#008000;stroke:#008000;stroke-linejoin:miter;\" x=\"292.316195\" xlink:href=\"#m65bb831186\" y=\"198.682902\"/>\r\n     <use style=\"fill:#008000;stroke:#008000;stroke-linejoin:miter;\" x=\"348.394162\" xlink:href=\"#m65bb831186\" y=\"116.343441\"/>\r\n     <use style=\"fill:#008000;stroke:#008000;stroke-linejoin:miter;\" x=\"279.005861\" xlink:href=\"#m65bb831186\" y=\"173.611358\"/>\r\n     <use style=\"fill:#008000;stroke:#008000;stroke-linejoin:miter;\" x=\"272.985293\" xlink:href=\"#m65bb831186\" y=\"188.721012\"/>\r\n     <use style=\"fill:#008000;stroke:#008000;stroke-linejoin:miter;\" x=\"178.1353\" xlink:href=\"#m65bb831186\" y=\"130.835724\"/>\r\n     <use style=\"fill:#008000;stroke:#008000;stroke-linejoin:miter;\" x=\"340.113267\" xlink:href=\"#m65bb831186\" y=\"158.452183\"/>\r\n     <use style=\"fill:#008000;stroke:#008000;stroke-linejoin:miter;\" x=\"221.935889\" xlink:href=\"#m65bb831186\" y=\"141.955082\"/>\r\n     <use style=\"fill:#008000;stroke:#008000;stroke-linejoin:miter;\" x=\"353.228984\" xlink:href=\"#m65bb831186\" y=\"134.389671\"/>\r\n     <use style=\"fill:#008000;stroke:#008000;stroke-linejoin:miter;\" x=\"243.30912\" xlink:href=\"#m65bb831186\" y=\"195.326711\"/>\r\n     <use style=\"fill:#008000;stroke:#008000;stroke-linejoin:miter;\" x=\"335.006208\" xlink:href=\"#m65bb831186\" y=\"185.346052\"/>\r\n     <use style=\"fill:#008000;stroke:#008000;stroke-linejoin:miter;\" x=\"369.543319\" xlink:href=\"#m65bb831186\" y=\"156.683143\"/>\r\n     <use style=\"fill:#008000;stroke:#008000;stroke-linejoin:miter;\" x=\"207.303752\" xlink:href=\"#m65bb831186\" y=\"181.830173\"/>\r\n     <use style=\"fill:#008000;stroke:#008000;stroke-linejoin:miter;\" x=\"217.679522\" xlink:href=\"#m65bb831186\" y=\"151.788163\"/>\r\n     <use style=\"fill:#008000;stroke:#008000;stroke-linejoin:miter;\" x=\"359.394663\" xlink:href=\"#m65bb831186\" y=\"112.897548\"/>\r\n     <use style=\"fill:#008000;stroke:#008000;stroke-linejoin:miter;\" x=\"316.850191\" xlink:href=\"#m65bb831186\" y=\"177.41053\"/>\r\n     <use style=\"fill:#008000;stroke:#008000;stroke-linejoin:miter;\" x=\"209.745472\" xlink:href=\"#m65bb831186\" y=\"178.075009\"/>\r\n     <use style=\"fill:#008000;stroke:#008000;stroke-linejoin:miter;\" x=\"296.636319\" xlink:href=\"#m65bb831186\" y=\"160.195682\"/>\r\n     <use style=\"fill:#008000;stroke:#008000;stroke-linejoin:miter;\" x=\"213.308027\" xlink:href=\"#m65bb831186\" y=\"191.974814\"/>\r\n     <use style=\"fill:#008000;stroke:#008000;stroke-linejoin:miter;\" x=\"317.668615\" xlink:href=\"#m65bb831186\" y=\"151.086236\"/>\r\n     <use style=\"fill:#008000;stroke:#008000;stroke-linejoin:miter;\" x=\"206.569919\" xlink:href=\"#m65bb831186\" y=\"140.957488\"/>\r\n     <use style=\"fill:#008000;stroke:#008000;stroke-linejoin:miter;\" x=\"338.937898\" xlink:href=\"#m65bb831186\" y=\"84.319727\"/>\r\n     <use style=\"fill:#008000;stroke:#008000;stroke-linejoin:miter;\" x=\"194.289682\" xlink:href=\"#m65bb831186\" y=\"80.860651\"/>\r\n     <use style=\"fill:#008000;stroke:#008000;stroke-linejoin:miter;\" x=\"187.555385\" xlink:href=\"#m65bb831186\" y=\"97.961655\"/>\r\n     <use style=\"fill:#008000;stroke:#008000;stroke-linejoin:miter;\" x=\"240.006401\" xlink:href=\"#m65bb831186\" y=\"176.235733\"/>\r\n     <use style=\"fill:#008000;stroke:#008000;stroke-linejoin:miter;\" x=\"250.539471\" xlink:href=\"#m65bb831186\" y=\"162.976257\"/>\r\n     <use style=\"fill:#008000;stroke:#008000;stroke-linejoin:miter;\" x=\"198.871837\" xlink:href=\"#m65bb831186\" y=\"148.545247\"/>\r\n     <use style=\"fill:#008000;stroke:#008000;stroke-linejoin:miter;\" x=\"385.254541\" xlink:href=\"#m65bb831186\" y=\"110.264182\"/>\r\n     <use style=\"fill:#008000;stroke:#008000;stroke-linejoin:miter;\" x=\"290.958905\" xlink:href=\"#m65bb831186\" y=\"179.629531\"/>\r\n     <use style=\"fill:#008000;stroke:#008000;stroke-linejoin:miter;\" x=\"201.969954\" xlink:href=\"#m65bb831186\" y=\"166.780909\"/>\r\n     <use style=\"fill:#008000;stroke:#008000;stroke-linejoin:miter;\" x=\"348.087232\" xlink:href=\"#m65bb831186\" y=\"110.508031\"/>\r\n     <use style=\"fill:#008000;stroke:#008000;stroke-linejoin:miter;\" x=\"184.227598\" xlink:href=\"#m65bb831186\" y=\"147.086056\"/>\r\n     <use style=\"fill:#008000;stroke:#008000;stroke-linejoin:miter;\" x=\"240.868745\" xlink:href=\"#m65bb831186\" y=\"189.16305\"/>\r\n     <use style=\"fill:#008000;stroke:#008000;stroke-linejoin:miter;\" x=\"354.699179\" xlink:href=\"#m65bb831186\" y=\"140.234648\"/>\r\n     <use style=\"fill:#008000;stroke:#008000;stroke-linejoin:miter;\" x=\"180.748368\" xlink:href=\"#m65bb831186\" y=\"155.978245\"/>\r\n     <use style=\"fill:#008000;stroke:#008000;stroke-linejoin:miter;\" x=\"198.14264\" xlink:href=\"#m65bb831186\" y=\"178.55589\"/>\r\n     <use style=\"fill:#008000;stroke:#008000;stroke-linejoin:miter;\" x=\"320.822453\" xlink:href=\"#m65bb831186\" y=\"146.861806\"/>\r\n     <use style=\"fill:#008000;stroke:#008000;stroke-linejoin:miter;\" x=\"182.201089\" xlink:href=\"#m65bb831186\" y=\"118.822469\"/>\r\n     <use style=\"fill:#008000;stroke:#008000;stroke-linejoin:miter;\" x=\"322.232994\" xlink:href=\"#m65bb831186\" y=\"151.471743\"/>\r\n     <use style=\"fill:#008000;stroke:#008000;stroke-linejoin:miter;\" x=\"315.214994\" xlink:href=\"#m65bb831186\" y=\"135.857608\"/>\r\n     <use style=\"fill:#008000;stroke:#008000;stroke-linejoin:miter;\" x=\"257.810819\" xlink:href=\"#m65bb831186\" y=\"175.531632\"/>\r\n     <use style=\"fill:#008000;stroke:#008000;stroke-linejoin:miter;\" x=\"322.962793\" xlink:href=\"#m65bb831186\" y=\"156.354386\"/>\r\n     <use style=\"fill:#008000;stroke:#008000;stroke-linejoin:miter;\" x=\"301.08978\" xlink:href=\"#m65bb831186\" y=\"170.133306\"/>\r\n     <use style=\"fill:#008000;stroke:#008000;stroke-linejoin:miter;\" x=\"198.865228\" xlink:href=\"#m65bb831186\" y=\"157.099709\"/>\r\n     <use style=\"fill:#008000;stroke:#008000;stroke-linejoin:miter;\" x=\"268.664259\" xlink:href=\"#m65bb831186\" y=\"189.191768\"/>\r\n     <use style=\"fill:#008000;stroke:#008000;stroke-linejoin:miter;\" x=\"340.996538\" xlink:href=\"#m65bb831186\" y=\"146.824918\"/>\r\n     <use style=\"fill:#008000;stroke:#008000;stroke-linejoin:miter;\" x=\"179.135456\" xlink:href=\"#m65bb831186\" y=\"102.256716\"/>\r\n    </g>\r\n   </g>\r\n   <g id=\"patch_3\">\r\n    <path d=\"M 58.039375 229.199062 \r\nL 58.039375 11.759062 \r\n\" style=\"fill:none;stroke:#000000;stroke-linecap:square;stroke-linejoin:miter;stroke-width:0.8;\"/>\r\n   </g>\r\n   <g id=\"patch_4\">\r\n    <path d=\"M 392.839375 229.199062 \r\nL 392.839375 11.759062 \r\n\" style=\"fill:none;stroke:#000000;stroke-linecap:square;stroke-linejoin:miter;stroke-width:0.8;\"/>\r\n   </g>\r\n   <g id=\"patch_5\">\r\n    <path d=\"M 58.039375 229.199062 \r\nL 392.839375 229.199062 \r\n\" style=\"fill:none;stroke:#000000;stroke-linecap:square;stroke-linejoin:miter;stroke-width:0.8;\"/>\r\n   </g>\r\n   <g id=\"patch_6\">\r\n    <path d=\"M 58.039375 11.759062 \r\nL 392.839375 11.759062 \r\n\" style=\"fill:none;stroke:#000000;stroke-linecap:square;stroke-linejoin:miter;stroke-width:0.8;\"/>\r\n   </g>\r\n  </g>\r\n </g>\r\n <defs>\r\n  <clipPath id=\"p61c9827918\">\r\n   <rect height=\"217.44\" width=\"334.8\" x=\"58.039375\" y=\"11.759062\"/>\r\n  </clipPath>\r\n </defs>\r\n</svg>\r\n",
      "image/png": "[encoded data removed]"
     },
     "metadata": {
      "needs_background": "light"
     }
    }
   ],
   "source": [
    "from sklearn.datasets import make_moons\n",
    "X, y = make_moons(n_samples=100, noise=0.15, random_state=42)\n",
    "\n",
    "def plot_dataset(X, y, axes):\n",
    "    plt.plot(X[:, 0][y==0], X[:, 1][y==0], \"bs\")\n",
    "    plt.plot(X[:, 0][y==1], X[:, 1][y==1], \"g^\")\n",
    "    plt.axis(axes)\n",
    "    plt.grid(True, which='both')\n",
    "    plt.xlabel(r\"$x_1$\", fontsize=20)\n",
    "    plt.ylabel(r\"$x_2$\", fontsize=20, rotation=0)\n",
    "\n",
    "plot_dataset(X, y, [-1.5, 2.5, -1, 1.5])\n",
    "plt.show()"
   ]
  },
  {
   "cell_type": "code",
   "execution_count": 5,
   "metadata": {},
   "outputs": [],
   "source": [
    "###zuoye8\n",
    "from sklearn import datasets\n",
    "\n",
    "iris = datasets.load_iris()\n",
    "X = iris[\"data\"][:, (2, 3)]  # petal length, petal width\n",
    "y = iris[\"target\"]\n",
    "\n",
    "setosa_or_versicolor = (y == 0) | (y == 1)\n",
    "X = X[setosa_or_versicolor]\n",
    "y = y[setosa_or_versicolor]"
   ]
  },
  {
   "cell_type": "code",
   "execution_count": 6,
   "metadata": {
    "tags": []
   },
   "outputs": [
    {
     "output_type": "stream",
     "name": "stdout",
     "text": "LinearSVC:                    [0.28475098] [[1.05364854 1.09903804]]\nSVC:                          [0.31896852] [[1.1203284  1.02625193]]\nSGDClassifier(alpha=0.00200): [0.319] [[1.12087283 1.02679408]]\n"
    }
   ],
   "source": [
    "from sklearn.svm import SVC, LinearSVC\n",
    "from sklearn.linear_model import SGDClassifier\n",
    "from sklearn.preprocessing import StandardScaler\n",
    "\n",
    "C = 5\n",
    "alpha = 1 / (C * len(X))\n",
    "\n",
    "lin_clf = LinearSVC(loss=\"hinge\", C=C, random_state=42)\n",
    "svm_clf = SVC(kernel=\"linear\", C=C)\n",
    "sgd_clf = SGDClassifier(loss=\"hinge\", learning_rate=\"constant\", eta0=0.001, alpha=alpha,\n",
    "                        max_iter=100000, tol=-np.infty, random_state=42)\n",
    "\n",
    "scaler = StandardScaler()\n",
    "X_scaled = scaler.fit_transform(X)\n",
    "\n",
    "lin_clf.fit(X_scaled, y)\n",
    "svm_clf.fit(X_scaled, y)\n",
    "sgd_clf.fit(X_scaled, y)\n",
    "\n",
    "print(\"LinearSVC:                   \", lin_clf.intercept_, lin_clf.coef_)\n",
    "print(\"SVC:                         \", svm_clf.intercept_, svm_clf.coef_)\n",
    "print(\"SGDClassifier(alpha={:.5f}):\".format(sgd_clf.alpha), sgd_clf.intercept_, sgd_clf.coef_)"
   ]
  },
  {
   "cell_type": "code",
   "execution_count": 9,
   "metadata": {},
   "outputs": [
    {
     "output_type": "execute_result",
     "data": {
      "text/plain": "(array([[0., 0., 0., ..., 0., 0., 0.],\n        [0., 0., 0., ..., 0., 0., 0.],\n        [0., 0., 0., ..., 0., 0., 0.],\n        ...,\n        [0., 0., 0., ..., 0., 0., 0.],\n        [0., 0., 0., ..., 0., 0., 0.],\n        [0., 0., 0., ..., 0., 0., 0.]]),\n array([5, 0, 4, ..., 4, 5, 6], dtype=int8))"
     },
     "metadata": {},
     "execution_count": 9
    }
   ],
   "source": [
    "###9\n",
    "try:\n",
    "    from sklearn.datasets import fetch_openml\n",
    "    mnist = fetch_openml('mnist_784', version=1, cache=True)\n",
    "    mnist.target = mnist.target.astype(np.int8) # fetch_openml() returns targets as strings\n",
    "except ImportError:\n",
    "    from sklearn.datasets import fetch_mldata\n",
    "    mnist = fetch_mldata('MNIST original')\n",
    "mnist[\"data\"], mnist[\"target\"]"
   ]
  },
  {
   "cell_type": "code",
   "execution_count": 10,
   "metadata": {},
   "outputs": [],
   "source": [
    "X = mnist[\"data\"]\n",
    "y = mnist[\"target\"]\n",
    "\n",
    "X_train = X[:60000]\n",
    "y_train = y[:60000]\n",
    "X_test = X[60000:]\n",
    "y_test = y[60000:]"
   ]
  },
  {
   "cell_type": "code",
   "execution_count": 11,
   "metadata": {},
   "outputs": [],
   "source": [
    "np.random.seed(42)\n",
    "rnd_idx = np.random.permutation(60000)\n",
    "X_train = X_train[rnd_idx]\n",
    "y_train = y_train[rnd_idx]"
   ]
  },
  {
   "cell_type": "code",
   "execution_count": 12,
   "metadata": {},
   "outputs": [],
   "source": [
    "from sklearn.metrics import accuracy_score\n",
    "from sklearn.svm import SVC, LinearSVC\n",
    "from sklearn.linear_model import SGDClassifier\n",
    "from sklearn.preprocessing import StandardScaler\n",
    "scaler = StandardScaler()\n",
    "X_train_scaled = scaler.fit_transform(X_train.astype(np.float32))\n",
    "X_test_scaled = scaler.transform(X_test.astype(np.float32))"
   ]
  },
  {
   "cell_type": "code",
   "execution_count": 13,
   "metadata": {},
   "outputs": [
    {
     "output_type": "execute_result",
     "data": {
      "text/plain": "LinearSVC(random_state=42)"
     },
     "metadata": {},
     "execution_count": 13
    }
   ],
   "source": [
    "lin_clf = LinearSVC(random_state=42)\n",
    "lin_clf.fit(X_train_scaled, y_train)"
   ]
  },
  {
   "cell_type": "code",
   "execution_count": 14,
   "metadata": {},
   "outputs": [
    {
     "output_type": "execute_result",
     "data": {
      "text/plain": "0.92025"
     },
     "metadata": {},
     "execution_count": 14
    }
   ],
   "source": [
    "y_pred = lin_clf.predict(X_train_scaled)\n",
    "accuracy_score(y_train, y_pred)"
   ]
  },
  {
   "cell_type": "code",
   "execution_count": 15,
   "metadata": {},
   "outputs": [
    {
     "output_type": "execute_result",
     "data": {
      "text/plain": "SVC(gamma='auto')"
     },
     "metadata": {},
     "execution_count": 15
    }
   ],
   "source": [
    "svm_clf = SVC(decision_function_shape=\"ovr\", gamma=\"auto\")\n",
    "svm_clf.fit(X_train_scaled[:10000], y_train[:10000])"
   ]
  },
  {
   "cell_type": "code",
   "execution_count": 16,
   "metadata": {},
   "outputs": [
    {
     "output_type": "execute_result",
     "data": {
      "text/plain": "0.9476"
     },
     "metadata": {},
     "execution_count": 16
    }
   ],
   "source": [
    "\n",
    "y_pred = svm_clf.predict(X_train_scaled)\n",
    "accuracy_score(y_train, y_pred)"
   ]
  },
  {
   "cell_type": "code",
   "execution_count": 17,
   "metadata": {
    "tags": []
   },
   "outputs": [
    {
     "output_type": "stream",
     "name": "stdout",
     "text": "Fitting 3 folds for each of 10 candidates, totalling 30 fits\n[CV] C=8.852316058423087, gamma=0.001766074650481071 .................\n[Parallel(n_jobs=1)]: Using backend SequentialBackend with 1 concurrent workers.\n[CV] .. C=8.852316058423087, gamma=0.001766074650481071, total=   1.0s\n[CV] C=8.852316058423087, gamma=0.001766074650481071 .................\n[Parallel(n_jobs=1)]: Done   1 out of   1 | elapsed:    0.9s remaining:    0.0s\n[CV] .. C=8.852316058423087, gamma=0.001766074650481071, total=   0.9s\n[CV] C=8.852316058423087, gamma=0.001766074650481071 .................\n[CV] .. C=8.852316058423087, gamma=0.001766074650481071, total=   0.9s\n[CV] C=1.8271960104746645, gamma=0.006364737055453384 ................\n[CV] . C=1.8271960104746645, gamma=0.006364737055453384, total=   1.1s\n[CV] C=1.8271960104746645, gamma=0.006364737055453384 ................\n[CV] . C=1.8271960104746645, gamma=0.006364737055453384, total=   1.1s\n[CV] C=1.8271960104746645, gamma=0.006364737055453384 ................\n[CV] . C=1.8271960104746645, gamma=0.006364737055453384, total=   1.1s\n[CV] C=9.875199193765326, gamma=0.051349833451870636 .................\n[CV] .. C=9.875199193765326, gamma=0.051349833451870636, total=   1.1s\n[CV] C=9.875199193765326, gamma=0.051349833451870636 .................\n[CV] .. C=9.875199193765326, gamma=0.051349833451870636, total=   1.1s\n[CV] C=9.875199193765326, gamma=0.051349833451870636 .................\n[CV] .. C=9.875199193765326, gamma=0.051349833451870636, total=   1.1s\n[CV] C=6.59992909281409, gamma=0.05991666578466177 ...................\n[CV] .... C=6.59992909281409, gamma=0.05991666578466177, total=   1.1s\n[CV] C=6.59992909281409, gamma=0.05991666578466177 ...................\n[CV] .... C=6.59992909281409, gamma=0.05991666578466177, total=   1.1s\n[CV] C=6.59992909281409, gamma=0.05991666578466177 ...................\n[CV] .... C=6.59992909281409, gamma=0.05991666578466177, total=   1.1s\n[CV] C=9.053435975487119, gamma=0.003596490522533181 .................\n[CV] .. C=9.053435975487119, gamma=0.003596490522533181, total=   1.0s\n[CV] C=9.053435975487119, gamma=0.003596490522533181 .................\n[CV] .. C=9.053435975487119, gamma=0.003596490522533181, total=   1.0s\n[CV] C=9.053435975487119, gamma=0.003596490522533181 .................\n[CV] .. C=9.053435975487119, gamma=0.003596490522533181, total=   1.0s\n[CV] C=2.701062804458301, gamma=0.004002330992905356 .................\n[CV] .. C=2.701062804458301, gamma=0.004002330992905356, total=   1.0s\n[CV] C=2.701062804458301, gamma=0.004002330992905356 .................\n[CV] .. C=2.701062804458301, gamma=0.004002330992905356, total=   1.0s\n[CV] C=2.701062804458301, gamma=0.004002330992905356 .................\n[CV] .. C=2.701062804458301, gamma=0.004002330992905356, total=   1.1s\n[CV] C=3.2711787843881437, gamma=0.017596957507461645 ................\n[CV] . C=3.2711787843881437, gamma=0.017596957507461645, total=   1.1s\n[CV] C=3.2711787843881437, gamma=0.017596957507461645 ................\n[CV] . C=3.2711787843881437, gamma=0.017596957507461645, total=   1.1s\n[CV] C=3.2711787843881437, gamma=0.017596957507461645 ................\n[CV] . C=3.2711787843881437, gamma=0.017596957507461645, total=   1.1s\n[CV] C=6.848991127746501, gamma=0.01573529056426603 ..................\n[CV] ... C=6.848991127746501, gamma=0.01573529056426603, total=   1.1s\n[CV] C=6.848991127746501, gamma=0.01573529056426603 ..................\n[CV] ... C=6.848991127746501, gamma=0.01573529056426603, total=   1.1s\n[CV] C=6.848991127746501, gamma=0.01573529056426603 ..................\n[CV] ... C=6.848991127746501, gamma=0.01573529056426603, total=   1.1s\n[CV] C=2.893035364914488, gamma=0.03834647526105027 ..................\n[CV] ... C=2.893035364914488, gamma=0.03834647526105027, total=   1.2s\n[CV] C=2.893035364914488, gamma=0.03834647526105027 ..................\n[CV] ... C=2.893035364914488, gamma=0.03834647526105027, total=   1.2s\n[CV] C=2.893035364914488, gamma=0.03834647526105027 ..................\n[CV] ... C=2.893035364914488, gamma=0.03834647526105027, total=   1.2s\n[CV] C=5.336260835426313, gamma=0.008808538172595842 .................\n[CV] .. C=5.336260835426313, gamma=0.008808538172595842, total=   1.1s\n[CV] C=5.336260835426313, gamma=0.008808538172595842 .................\n[CV] .. C=5.336260835426313, gamma=0.008808538172595842, total=   1.1s\n[CV] C=5.336260835426313, gamma=0.008808538172595842 .................\n[CV] .. C=5.336260835426313, gamma=0.008808538172595842, total=   1.1s\n[Parallel(n_jobs=1)]: Done  30 out of  30 | elapsed:   32.4s finished\n"
    },
    {
     "output_type": "execute_result",
     "data": {
      "text/plain": "RandomizedSearchCV(cv=3, estimator=SVC(gamma='auto'),\n                   param_distributions={'C': <scipy.stats._distn_infrastructure.rv_frozen object at 0x000001E97A856D68>,\n                                        'gamma': <scipy.stats._distn_infrastructure.rv_frozen object at 0x000001E97A850D30>},\n                   verbose=2)"
     },
     "metadata": {},
     "execution_count": 17
    }
   ],
   "source": [
    "from sklearn.model_selection import RandomizedSearchCV\n",
    "from scipy.stats import reciprocal, uniform\n",
    "\n",
    "param_distributions = {\"gamma\": reciprocal(0.001, 0.1), \"C\": uniform(1, 10)}\n",
    "rnd_search_cv = RandomizedSearchCV(svm_clf, param_distributions, n_iter=10, verbose=2, cv=3)\n",
    "rnd_search_cv.fit(X_train_scaled[:1000], y_train[:1000])"
   ]
  },
  {
   "cell_type": "code",
   "execution_count": 18,
   "metadata": {},
   "outputs": [
    {
     "output_type": "execute_result",
     "data": {
      "text/plain": "SVC(C=8.852316058423087, gamma=0.001766074650481071)"
     },
     "metadata": {},
     "execution_count": 18
    }
   ],
   "source": [
    "rnd_search_cv.best_estimator_"
   ]
  },
  {
   "cell_type": "code",
   "execution_count": 19,
   "metadata": {},
   "outputs": [
    {
     "output_type": "execute_result",
     "data": {
      "text/plain": "0.8630037222851593"
     },
     "metadata": {},
     "execution_count": 19
    }
   ],
   "source": [
    "\n",
    "rnd_search_cv.best_score_"
   ]
  },
  {
   "cell_type": "code",
   "execution_count": 20,
   "metadata": {},
   "outputs": [
    {
     "output_type": "execute_result",
     "data": {
      "text/plain": "SVC(C=8.852316058423087, gamma=0.001766074650481071)"
     },
     "metadata": {},
     "execution_count": 20
    }
   ],
   "source": [
    "rnd_search_cv.best_estimator_.fit(X_train_scaled, y_train)"
   ]
  },
  {
   "cell_type": "code",
   "execution_count": 21,
   "metadata": {},
   "outputs": [
    {
     "output_type": "execute_result",
     "data": {
      "text/plain": "0.99965"
     },
     "metadata": {},
     "execution_count": 21
    }
   ],
   "source": [
    "y_pred = rnd_search_cv.best_estimator_.predict(X_train_scaled)\n",
    "accuracy_score(y_train, y_pred)"
   ]
  },
  {
   "cell_type": "code",
   "execution_count": null,
   "metadata": {},
   "outputs": [],
   "source": []
  }
 ]
}